{
 "cells": [
  {
   "cell_type": "code",
   "execution_count": 1,
   "metadata": {},
   "outputs": [],
   "source": [
    "import numpy as np\n",
    "import pandas as pd\n",
    "import matplotlib.pyplot as plt\n",
    "import seaborn as sns\n",
    "sns.set()"
   ]
  },
  {
   "cell_type": "code",
   "execution_count": 22,
   "metadata": {},
   "outputs": [
    {
     "name": "stdout",
     "output_type": "stream",
     "text": [
      "number of sheets: 4\n"
     ]
    }
   ],
   "source": [
    "filename = '2.3.Categorical-variables.Visualization-techniques-exercise.xlsx'\n",
    "xlsx_file = pd.ExcelFile(filename)\n",
    "res = len(xlsx_file.sheet_names)\n",
    "print(\"number of sheets:\", res)\n",
    "xlsx_sheet = pd.read_excel(filename, sheet_name=0)"
   ]
  },
  {
   "cell_type": "code",
   "execution_count": 23,
   "metadata": {},
   "outputs": [
    {
     "data": {
      "text/html": [
       "<div>\n",
       "<style scoped>\n",
       "    .dataframe tbody tr th:only-of-type {\n",
       "        vertical-align: middle;\n",
       "    }\n",
       "\n",
       "    .dataframe tbody tr th {\n",
       "        vertical-align: top;\n",
       "    }\n",
       "\n",
       "    .dataframe thead th {\n",
       "        text-align: right;\n",
       "    }\n",
       "</style>\n",
       "<table border=\"1\" class=\"dataframe\">\n",
       "  <thead>\n",
       "    <tr style=\"text-align: right;\">\n",
       "      <th></th>\n",
       "      <th>Unnamed: 0</th>\n",
       "      <th>Categorical variables. Visualization techniques</th>\n",
       "      <th>Unnamed: 2</th>\n",
       "    </tr>\n",
       "  </thead>\n",
       "  <tbody>\n",
       "    <tr>\n",
       "      <th>0</th>\n",
       "      <td>NaN</td>\n",
       "      <td>Ice cream shop</td>\n",
       "      <td>NaN</td>\n",
       "    </tr>\n",
       "    <tr>\n",
       "      <th>1</th>\n",
       "      <td>NaN</td>\n",
       "      <td>NaN</td>\n",
       "      <td>NaN</td>\n",
       "    </tr>\n",
       "    <tr>\n",
       "      <th>2</th>\n",
       "      <td>NaN</td>\n",
       "      <td>Note: You may solve these problems both on pap...</td>\n",
       "      <td>NaN</td>\n",
       "    </tr>\n",
       "    <tr>\n",
       "      <th>3</th>\n",
       "      <td>NaN</td>\n",
       "      <td>NaN</td>\n",
       "      <td>NaN</td>\n",
       "    </tr>\n",
       "    <tr>\n",
       "      <th>4</th>\n",
       "      <td>NaN</td>\n",
       "      <td>Background</td>\n",
       "      <td>There is an ice cream shop, that is operating ...</td>\n",
       "    </tr>\n",
       "    <tr>\n",
       "      <th>5</th>\n",
       "      <td>NaN</td>\n",
       "      <td>Data</td>\n",
       "      <td>You have sold 12,327 ice creams in New York; 1...</td>\n",
       "    </tr>\n",
       "    <tr>\n",
       "      <th>6</th>\n",
       "      <td>NaN</td>\n",
       "      <td>Task</td>\n",
       "      <td>Order the data in a frequency distribution table.</td>\n",
       "    </tr>\n",
       "  </tbody>\n",
       "</table>\n",
       "</div>"
      ],
      "text/plain": [
       "   Unnamed: 0    Categorical variables. Visualization techniques  \\\n",
       "0         NaN                                     Ice cream shop   \n",
       "1         NaN                                                NaN   \n",
       "2         NaN  Note: You may solve these problems both on pap...   \n",
       "3         NaN                                                NaN   \n",
       "4         NaN                                         Background   \n",
       "5         NaN                                               Data   \n",
       "6         NaN                                               Task   \n",
       "\n",
       "                                          Unnamed: 2  \n",
       "0                                                NaN  \n",
       "1                                                NaN  \n",
       "2                                                NaN  \n",
       "3                                                NaN  \n",
       "4  There is an ice cream shop, that is operating ...  \n",
       "5  You have sold 12,327 ice creams in New York; 1...  \n",
       "6  Order the data in a frequency distribution table.  "
      ]
     },
     "execution_count": 23,
     "metadata": {},
     "output_type": "execute_result"
    }
   ],
   "source": [
    "xlsx_sheet"
   ]
  },
  {
   "cell_type": "code",
   "execution_count": 28,
   "metadata": {},
   "outputs": [
    {
     "name": "stdout",
     "output_type": "stream",
     "text": [
      "background:  There is an ice cream shop, that is operating in New York, LA and San Francisco.\n",
      "data:  You have sold 12,327 ice creams in New York; 17,129 in LA and 19,923 in San Francisco.\n",
      "task:  Order the data in a frequency distribution table.\n"
     ]
    }
   ],
   "source": [
    "#background\n",
    "background = xlsx_sheet.iloc[4,2:].tolist()[0]\n",
    "data = xlsx_sheet.iloc[5,2:].tolist()[0]\n",
    "task = xlsx_sheet.iloc[6,2:].tolist()[0]\n",
    "print(\"background: \", background)\n",
    "print(\"data: \", data)\n",
    "print(\"task: \", task)"
   ]
  },
  {
   "cell_type": "code",
   "execution_count": 39,
   "metadata": {},
   "outputs": [
    {
     "data": {
      "text/html": [
       "<div>\n",
       "<style scoped>\n",
       "    .dataframe tbody tr th:only-of-type {\n",
       "        vertical-align: middle;\n",
       "    }\n",
       "\n",
       "    .dataframe tbody tr th {\n",
       "        vertical-align: top;\n",
       "    }\n",
       "\n",
       "    .dataframe thead th {\n",
       "        text-align: right;\n",
       "    }\n",
       "</style>\n",
       "<table border=\"1\" class=\"dataframe\">\n",
       "  <thead>\n",
       "    <tr style=\"text-align: right;\">\n",
       "      <th></th>\n",
       "      <th>Cities</th>\n",
       "      <th>Sales</th>\n",
       "    </tr>\n",
       "  </thead>\n",
       "  <tbody>\n",
       "    <tr>\n",
       "      <th>0</th>\n",
       "      <td>Ny</td>\n",
       "      <td>12237</td>\n",
       "    </tr>\n",
       "    <tr>\n",
       "      <th>1</th>\n",
       "      <td>La</td>\n",
       "      <td>17129</td>\n",
       "    </tr>\n",
       "    <tr>\n",
       "      <th>2</th>\n",
       "      <td>Sf</td>\n",
       "      <td>19923</td>\n",
       "    </tr>\n",
       "  </tbody>\n",
       "</table>\n",
       "</div>"
      ],
      "text/plain": [
       "  Cities  Sales\n",
       "0     Ny  12237\n",
       "1     La  17129\n",
       "2     Sf  19923"
      ]
     },
     "execution_count": 39,
     "metadata": {},
     "output_type": "execute_result"
    }
   ],
   "source": [
    "data = [12237, 17129, 19923]\n",
    "cities = ['Ny', \"La\", \"Sf\"]\n",
    "df = pd.DataFrame(columns=['Cities','Sales'])\n",
    "df['Cities'] = cities\n",
    "df['Sales'] = data\n",
    "df"
   ]
  },
  {
   "cell_type": "code",
   "execution_count": 46,
   "metadata": {},
   "outputs": [
    {
     "data": {
      "image/png": "[encoded data removed]",
      "text/plain": [
       "<Figure size 432x288 with 1 Axes>"
      ]
     },
     "metadata": {},
     "output_type": "display_data"
    }
   ],
   "source": [
    "#bar chart \n",
    "from numpy import median\n",
    "ax = sns.barplot(x=\"Cities\", y=\"Sales\", hue=\"Cities\", data=df, ci=68, capsize=.2, palette=\"Blues_d\")"
   ]
  },
  {
   "cell_type": "code",
   "execution_count": 47,
   "metadata": {},
   "outputs": [
    {
     "data": {
      "image/png": "[encoded data removed]",
      "text/plain": [
       "<Figure size 432x288 with 1 Axes>"
      ]
     },
     "metadata": {},
     "output_type": "display_data"
    }
   ],
   "source": [
    "#pie chart\n",
    "fig1, ax1 = plt.subplots()\n",
    "ax1.pie(data, labels=cities, autopct='%1.1f%%',\n",
    "        shadow=True, startangle=90)\n",
    "ax1.axis('equal')  # Equal aspect ratio ensures that pie is drawn as a circle.\n",
    "\n",
    "plt.show()"
   ]
  },
  {
   "cell_type": "code",
   "execution_count": 52,
   "metadata": {},
   "outputs": [
    {
     "data": {
      "image/png": "[encoded data removed]",
      "text/plain": [
       "<Figure size 432x288 with 2 Axes>"
      ]
     },
     "metadata": {},
     "output_type": "display_data"
    }
   ],
   "source": [
    "#pareto diagram\n",
    "def pareto_plot(df, x=None, y=None, title=None, show_pct_y=False, pct_format='{0:.0%}'):\n",
    "    xlabel = x\n",
    "    ylabel = y\n",
    "    tmp = df.sort_values(y, ascending=False)\n",
    "    x = tmp[x].values\n",
    "    y = tmp[y].values\n",
    "    weights = y / y.sum()\n",
    "    cumsum = weights.cumsum()\n",
    "    \n",
    "    fig, ax1 = plt.subplots()\n",
    "    ax1.bar(x, y)\n",
    "    ax1.set_xlabel(xlabel)\n",
    "    ax1.set_ylabel(ylabel)\n",
    "\n",
    "    ax2 = ax1.twinx()\n",
    "    ax2.plot(x, cumsum, '-ro', alpha=0.5)\n",
    "    ax2.set_ylabel('', color='r')\n",
    "    ax2.tick_params('y', colors='r')\n",
    "    \n",
    "    vals = ax2.get_yticks()\n",
    "    ax2.set_yticklabels(['{:,.2%}'.format(x) for x in vals])\n",
    "\n",
    "    # hide y-labels on right side\n",
    "    if not show_pct_y:\n",
    "        ax2.set_yticks([])\n",
    "    \n",
    "    formatted_weights = [pct_format.format(x) for x in cumsum]\n",
    "    for i, txt in enumerate(formatted_weights):\n",
    "        ax2.annotate(txt, (x[i], cumsum[i]), fontweight='heavy')    \n",
    "    \n",
    "    if title:\n",
    "        plt.title(title)\n",
    "    \n",
    "    plt.tight_layout()\n",
    "    plt.show()\n",
    "pareto_plot(df, x='Cities', y='Sales')"
   ]
  },
  {
   "cell_type": "code",
   "execution_count": null,
   "metadata": {},
   "outputs": [],
   "source": []
  },
  {
   "cell_type": "code",
   "execution_count": null,
   "metadata": {},
   "outputs": [],
   "source": []
  }
 ],
 "metadata": {
  "kernelspec": {
   "display_name": "Python 3",
   "language": "python",
   "name": "python3"
  },
  "language_info": {
   "codemirror_mode": {
    "name": "ipython",
    "version": 3
   },
   "file_extension": ".py",
   "mimetype": "text/x-python",
   "name": "python",
   "nbconvert_exporter": "python",
   "pygments_lexer": "ipython3",
   "version": "3.6.10"
  }
 },
 "nbformat": 4,
 "nbformat_minor": 4
}
