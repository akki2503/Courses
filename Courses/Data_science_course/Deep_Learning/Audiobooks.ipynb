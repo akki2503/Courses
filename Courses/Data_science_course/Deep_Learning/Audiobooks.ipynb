{
 "cells": [
  {
   "cell_type": "code",
   "execution_count": 50,
   "metadata": {},
   "outputs": [],
   "source": [
    "import pandas as pd\n",
    "import numpy as np\n",
    "import matplotlib.pyplot as plt\n",
    "import seaborn as sns\n",
    "sns.set()\n",
    "from sklearn import preprocessing\n",
    "import tensorflow as tf"
   ]
  },
  {
   "cell_type": "code",
   "execution_count": 11,
   "metadata": {},
   "outputs": [
    {
     "data": {
      "text/html": [
       "<div>\n",
       "<style scoped>\n",
       "    .dataframe tbody tr th:only-of-type {\n",
       "        vertical-align: middle;\n",
       "    }\n",
       "\n",
       "    .dataframe tbody tr th {\n",
       "        vertical-align: top;\n",
       "    }\n",
       "\n",
       "    .dataframe thead th {\n",
       "        text-align: right;\n",
       "    }\n",
       "</style>\n",
       "<table border=\"1\" class=\"dataframe\">\n",
       "  <thead>\n",
       "    <tr style=\"text-align: right;\">\n",
       "      <th></th>\n",
       "      <th>873</th>\n",
       "      <th>2160</th>\n",
       "      <th>2160.1</th>\n",
       "      <th>10.13</th>\n",
       "      <th>10.13.1</th>\n",
       "      <th>0</th>\n",
       "      <th>8.91</th>\n",
       "      <th>0.1</th>\n",
       "      <th>0.2</th>\n",
       "      <th>0.3</th>\n",
       "      <th>0.4</th>\n",
       "      <th>1</th>\n",
       "    </tr>\n",
       "  </thead>\n",
       "  <tbody>\n",
       "    <tr>\n",
       "      <th>0</th>\n",
       "      <td>611</td>\n",
       "      <td>1404.0</td>\n",
       "      <td>2808</td>\n",
       "      <td>6.66</td>\n",
       "      <td>13.33</td>\n",
       "      <td>1</td>\n",
       "      <td>6.50</td>\n",
       "      <td>0.00</td>\n",
       "      <td>0.0</td>\n",
       "      <td>0</td>\n",
       "      <td>182</td>\n",
       "      <td>1</td>\n",
       "    </tr>\n",
       "    <tr>\n",
       "      <th>1</th>\n",
       "      <td>705</td>\n",
       "      <td>324.0</td>\n",
       "      <td>324</td>\n",
       "      <td>10.13</td>\n",
       "      <td>10.13</td>\n",
       "      <td>1</td>\n",
       "      <td>9.00</td>\n",
       "      <td>0.00</td>\n",
       "      <td>0.0</td>\n",
       "      <td>1</td>\n",
       "      <td>334</td>\n",
       "      <td>1</td>\n",
       "    </tr>\n",
       "    <tr>\n",
       "      <th>2</th>\n",
       "      <td>391</td>\n",
       "      <td>1620.0</td>\n",
       "      <td>1620</td>\n",
       "      <td>15.31</td>\n",
       "      <td>15.31</td>\n",
       "      <td>0</td>\n",
       "      <td>9.00</td>\n",
       "      <td>0.00</td>\n",
       "      <td>0.0</td>\n",
       "      <td>0</td>\n",
       "      <td>183</td>\n",
       "      <td>1</td>\n",
       "    </tr>\n",
       "    <tr>\n",
       "      <th>3</th>\n",
       "      <td>819</td>\n",
       "      <td>432.0</td>\n",
       "      <td>1296</td>\n",
       "      <td>7.11</td>\n",
       "      <td>21.33</td>\n",
       "      <td>1</td>\n",
       "      <td>9.00</td>\n",
       "      <td>0.00</td>\n",
       "      <td>0.0</td>\n",
       "      <td>0</td>\n",
       "      <td>0</td>\n",
       "      <td>1</td>\n",
       "    </tr>\n",
       "    <tr>\n",
       "      <th>4</th>\n",
       "      <td>138</td>\n",
       "      <td>2160.0</td>\n",
       "      <td>2160</td>\n",
       "      <td>10.13</td>\n",
       "      <td>10.13</td>\n",
       "      <td>1</td>\n",
       "      <td>9.00</td>\n",
       "      <td>0.00</td>\n",
       "      <td>0.0</td>\n",
       "      <td>0</td>\n",
       "      <td>5</td>\n",
       "      <td>1</td>\n",
       "    </tr>\n",
       "    <tr>\n",
       "      <th>...</th>\n",
       "      <td>...</td>\n",
       "      <td>...</td>\n",
       "      <td>...</td>\n",
       "      <td>...</td>\n",
       "      <td>...</td>\n",
       "      <td>...</td>\n",
       "      <td>...</td>\n",
       "      <td>...</td>\n",
       "      <td>...</td>\n",
       "      <td>...</td>\n",
       "      <td>...</td>\n",
       "      <td>...</td>\n",
       "    </tr>\n",
       "    <tr>\n",
       "      <th>14078</th>\n",
       "      <td>27398</td>\n",
       "      <td>2160.0</td>\n",
       "      <td>2160</td>\n",
       "      <td>7.99</td>\n",
       "      <td>7.99</td>\n",
       "      <td>0</td>\n",
       "      <td>8.91</td>\n",
       "      <td>0.00</td>\n",
       "      <td>0.0</td>\n",
       "      <td>0</td>\n",
       "      <td>54</td>\n",
       "      <td>0</td>\n",
       "    </tr>\n",
       "    <tr>\n",
       "      <th>14079</th>\n",
       "      <td>28220</td>\n",
       "      <td>1620.0</td>\n",
       "      <td>1620</td>\n",
       "      <td>5.33</td>\n",
       "      <td>5.33</td>\n",
       "      <td>1</td>\n",
       "      <td>9.00</td>\n",
       "      <td>0.61</td>\n",
       "      <td>0.0</td>\n",
       "      <td>0</td>\n",
       "      <td>4</td>\n",
       "      <td>0</td>\n",
       "    </tr>\n",
       "    <tr>\n",
       "      <th>14080</th>\n",
       "      <td>28671</td>\n",
       "      <td>1080.0</td>\n",
       "      <td>1080</td>\n",
       "      <td>6.55</td>\n",
       "      <td>6.55</td>\n",
       "      <td>1</td>\n",
       "      <td>6.00</td>\n",
       "      <td>0.29</td>\n",
       "      <td>0.0</td>\n",
       "      <td>0</td>\n",
       "      <td>29</td>\n",
       "      <td>0</td>\n",
       "    </tr>\n",
       "    <tr>\n",
       "      <th>14081</th>\n",
       "      <td>31134</td>\n",
       "      <td>2160.0</td>\n",
       "      <td>2160</td>\n",
       "      <td>6.14</td>\n",
       "      <td>6.14</td>\n",
       "      <td>0</td>\n",
       "      <td>8.91</td>\n",
       "      <td>0.00</td>\n",
       "      <td>0.0</td>\n",
       "      <td>0</td>\n",
       "      <td>0</td>\n",
       "      <td>0</td>\n",
       "    </tr>\n",
       "    <tr>\n",
       "      <th>14082</th>\n",
       "      <td>32832</td>\n",
       "      <td>1620.0</td>\n",
       "      <td>1620</td>\n",
       "      <td>5.33</td>\n",
       "      <td>5.33</td>\n",
       "      <td>1</td>\n",
       "      <td>8.00</td>\n",
       "      <td>0.38</td>\n",
       "      <td>0.0</td>\n",
       "      <td>0</td>\n",
       "      <td>90</td>\n",
       "      <td>0</td>\n",
       "    </tr>\n",
       "  </tbody>\n",
       "</table>\n",
       "<p>14083 rows × 12 columns</p>\n",
       "</div>"
      ],
      "text/plain": [
       "         873    2160  2160.1  10.13  10.13.1  0  8.91   0.1  0.2  0.3  0.4  1\n",
       "0        611  1404.0    2808   6.66    13.33  1  6.50  0.00  0.0    0  182  1\n",
       "1        705   324.0     324  10.13    10.13  1  9.00  0.00  0.0    1  334  1\n",
       "2        391  1620.0    1620  15.31    15.31  0  9.00  0.00  0.0    0  183  1\n",
       "3        819   432.0    1296   7.11    21.33  1  9.00  0.00  0.0    0    0  1\n",
       "4        138  2160.0    2160  10.13    10.13  1  9.00  0.00  0.0    0    5  1\n",
       "...      ...     ...     ...    ...      ... ..   ...   ...  ...  ...  ... ..\n",
       "14078  27398  2160.0    2160   7.99     7.99  0  8.91  0.00  0.0    0   54  0\n",
       "14079  28220  1620.0    1620   5.33     5.33  1  9.00  0.61  0.0    0    4  0\n",
       "14080  28671  1080.0    1080   6.55     6.55  1  6.00  0.29  0.0    0   29  0\n",
       "14081  31134  2160.0    2160   6.14     6.14  0  8.91  0.00  0.0    0    0  0\n",
       "14082  32832  1620.0    1620   5.33     5.33  1  8.00  0.38  0.0    0   90  0\n",
       "\n",
       "[14083 rows x 12 columns]"
      ]
     },
     "execution_count": 11,
     "metadata": {},
     "output_type": "execute_result"
    }
   ],
   "source": [
    "audio_raw = pd.read_csv('Audiobooks_data.csv')\n",
    "audio_raw"
   ]
  },
  {
   "cell_type": "code",
   "execution_count": 12,
   "metadata": {},
   "outputs": [],
   "source": [
    "raw_csv_data = np.loadtxt('Audiobooks_data.csv', delimiter=',')"
   ]
  },
  {
   "cell_type": "code",
   "execution_count": 30,
   "metadata": {},
   "outputs": [
    {
     "name": "stdout",
     "output_type": "stream",
     "text": [
      "14084\n"
     ]
    }
   ],
   "source": [
    "unscaled_inputs_all = raw_csv_data[:,1:-1]\n",
    "targets_all = raw_csv_data[:,-1]\n",
    "print(len(unscaled_inputs_all))"
   ]
  },
  {
   "cell_type": "code",
   "execution_count": 31,
   "metadata": {},
   "outputs": [
    {
     "name": "stdout",
     "output_type": "stream",
     "text": [
      "9610\n"
     ]
    }
   ],
   "source": [
    "no_of_ones = int(sum(targets_all))\n",
    "zero_counter = 0\n",
    "indices_to_remove = []\n",
    "for i in range(len(targets_all)):\n",
    "    if targets_all[i]==0:\n",
    "        zero_counter += 1\n",
    "        if zero_counter>no_of_ones:\n",
    "            indices_to_remove.append(i)\n",
    "print(len(indices_to_remove))"
   ]
  },
  {
   "cell_type": "code",
   "execution_count": 32,
   "metadata": {},
   "outputs": [
    {
     "name": "stdout",
     "output_type": "stream",
     "text": [
      "[[2.160e+03 2.160e+03 1.013e+01 ... 0.000e+00 0.000e+00 0.000e+00]\n",
      " [1.404e+03 2.808e+03 6.660e+00 ... 0.000e+00 0.000e+00 1.820e+02]\n",
      " [3.240e+02 3.240e+02 1.013e+01 ... 0.000e+00 1.000e+00 3.340e+02]\n",
      " ...\n",
      " [2.160e+03 2.160e+03 1.013e+01 ... 2.592e+02 0.000e+00 1.400e+01]\n",
      " [2.160e+03 2.160e+03 8.300e+00 ... 2.592e+02 0.000e+00 9.300e+01]\n",
      " [2.160e+03 2.160e+03 8.000e+00 ... 2.592e+02 0.000e+00 2.400e+01]]\n"
     ]
    }
   ],
   "source": [
    "unscaled_equal_priors = np.delete(unscaled_inputs_all, indices_to_remove, axis=0)\n",
    "targets_all_equal_priors = np.delete(targets_all, indices_to_remove, axis=0)\n",
    "scaled_inputs = preprocessing.scale(unscaled_equal_priors)\n",
    "print(unscaled_equal_priors)"
   ]
  },
  {
   "cell_type": "code",
   "execution_count": 42,
   "metadata": {},
   "outputs": [],
   "source": [
    "shufled_indices = np.arange(scaled_inputs.shape[0])\n",
    "np.random.shuffle(shufled_indices)\n",
    "\n",
    "shufled_inputs = scaled_inputs[shufled_indices]\n",
    "shufled_targets = targets_all_equal_priors[shufled_indices]"
   ]
  },
  {
   "cell_type": "code",
   "execution_count": 44,
   "metadata": {},
   "outputs": [
    {
     "name": "stdout",
     "output_type": "stream",
     "text": [
      "4474\n",
      "3579\n",
      "0.49958088851634536\n",
      "0.4966442953020134\n",
      "0.5066964285714286\n"
     ]
    }
   ],
   "source": [
    "samples_count = shufled_inputs.shape[0]\n",
    "print(samples_count)\n",
    "train_samples_count = int(0.8*samples_count)\n",
    "val_samples_count = int(0.1*samples_count)\n",
    "test_samples_count = samples_count - train_samples_count - val_samples_count\n",
    "\n",
    "train_inputs = shufled_inputs[:train_samples_count]\n",
    "train_targets = shufled_targets[:train_samples_count]\n",
    "print(train_targets.shape[0])\n",
    "val_inputs = shufled_inputs[train_samples_count:train_samples_count+val_samples_count]\n",
    "val_targets = shufled_targets[train_samples_count:train_samples_count+val_samples_count]\n",
    "\n",
    "test_inputs = shufled_inputs[train_samples_count+val_samples_count:]\n",
    "test_targets = shufled_targets[train_samples_count+val_samples_count:]\n",
    "\n",
    "print(np.sum(train_targets)/train_targets.shape[0])\n",
    "print(np.sum(val_targets)/val_targets.shape[0])\n",
    "print(np.sum(test_targets)/test_targets.shape[0])"
   ]
  },
  {
   "cell_type": "code",
   "execution_count": 45,
   "metadata": {},
   "outputs": [],
   "source": [
    "np.savez('Audio_train', inputs = train_inputs, targets = train_targets)\n",
    "np.savez('Audio_test', inputs = test_inputs, targets = test_targets)\n",
    "np.savez('Audio_val', inputs = val_inputs, targets = val_targets)"
   ]
  },
  {
   "cell_type": "code",
   "execution_count": 47,
   "metadata": {},
   "outputs": [],
   "source": [
    "train_inputs = train_inputs.astype(np.float)\n",
    "train_targets = train_targets.astype(np.int)\n",
    "val_inputs = val_inputs.astype(np.float)\n",
    "val_targets = val_targets.astype(np.int)\n",
    "test_inputs = test_inputs.astype(np.float)\n",
    "test_targets = test_targets.astype(np.int)"
   ]
  },
  {
   "cell_type": "code",
   "execution_count": 48,
   "metadata": {},
   "outputs": [
    {
     "data": {
      "text/plain": [
       "(3579, 10)"
      ]
     },
     "execution_count": 48,
     "metadata": {},
     "output_type": "execute_result"
    }
   ],
   "source": [
    "train_inputs.shape"
   ]
  },
  {
   "cell_type": "code",
   "execution_count": 52,
   "metadata": {},
   "outputs": [],
   "source": [
    "input_size = 10\n",
    "output_size = 2\n",
    "hidden_layers = 50\n",
    "\n",
    "model = tf.keras.Sequential([\n",
    "            tf.keras.layers.Dense(hidden_layers, activation='relu'),\n",
    "            tf.keras.layers.Dense(hidden_layers, activation='relu'),\n",
    "            tf.keras.layers.Dense(output_size, activation='softmax')\n",
    "])"
   ]
  },
  {
   "cell_type": "code",
   "execution_count": 53,
   "metadata": {},
   "outputs": [],
   "source": [
    "model.compile(optimizer='adam', loss='sparse_categorical_crossentropy', metrics=['accuracy'])"
   ]
  },
  {
   "cell_type": "code",
   "execution_count": 60,
   "metadata": {},
   "outputs": [
    {
     "name": "stdout",
     "output_type": "stream",
     "text": [
      "Epoch 1/50\n",
      "72/72 [==============================] - 1s 14ms/step - loss: 0.2184 - accuracy: 0.9187 - val_loss: 0.2504 - val_accuracy: 0.9128\n",
      "Epoch 2/50\n",
      "72/72 [==============================] - 1s 17ms/step - loss: 0.2145 - accuracy: 0.9195 - val_loss: 0.2475 - val_accuracy: 0.9150\n",
      "Epoch 3/50\n",
      "72/72 [==============================] - 1s 13ms/step - loss: 0.2153 - accuracy: 0.9193 - val_loss: 0.2566 - val_accuracy: 0.8926\n",
      "Epoch 4/50\n",
      "72/72 [==============================] - 1s 14ms/step - loss: 0.2181 - accuracy: 0.9184 - val_loss: 0.2549 - val_accuracy: 0.9016\n"
     ]
    },
    {
     "data": {
      "text/plain": [
       "<tensorflow.python.keras.callbacks.History at 0x7f3e087e0400>"
      ]
     },
     "execution_count": 60,
     "metadata": {},
     "output_type": "execute_result"
    }
   ],
   "source": [
    "batch_size = 50\n",
    "max_epochs = 50\n",
    "early_stopping = tf.keras.callbacks.EarlyStopping(patience=2)\n",
    "model.fit(train_inputs,\n",
    "         train_targets,\n",
    "         batch_size = batch_size,\n",
    "         epochs = max_epochs,\n",
    "         callbacks = [early_stopping],\n",
    "         validation_data=(val_inputs, val_targets))"
   ]
  },
  {
   "cell_type": "code",
   "execution_count": 63,
   "metadata": {},
   "outputs": [
    {
     "name": "stdout",
     "output_type": "stream",
     "text": [
      "14/14 [==============================] - 0s 10ms/step - loss: 0.2320 - accuracy: 0.9107\n",
      "Test loss: 0.23. Test accuracy: 91.07%\n"
     ]
    }
   ],
   "source": [
    "test_loss, test_accuracy = model.evaluate(test_inputs, test_targets)\n",
    "print('Test loss: {0:.2f}. Test accuracy: {1:.2f}%'.format(test_loss, test_accuracy*100.))"
   ]
  },
  {
   "cell_type": "code",
   "execution_count": null,
   "metadata": {},
   "outputs": [],
   "source": []
  }
 ],
 "metadata": {
  "kernelspec": {
   "display_name": "Python 3",
   "language": "python",
   "name": "python3"
  },
  "language_info": {
   "codemirror_mode": {
    "name": "ipython",
    "version": 3
   },
   "file_extension": ".py",
   "mimetype": "text/x-python",
   "name": "python",
   "nbconvert_exporter": "python",
   "pygments_lexer": "ipython3",
   "version": "3.6.10"
  }
 },
 "nbformat": 4,
 "nbformat_minor": 4
}
